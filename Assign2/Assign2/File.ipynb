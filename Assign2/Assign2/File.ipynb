{
 "cells": [
  {
   "cell_type": "markdown",
   "metadata": {},
   "source": [
    "<h1 style=\"text-align:center\"> Drexel University </h1>\n",
    "<h2 style = \"text-align:center\"> College of Computing and Informatics</h2>\n",
    "<h2 style = \"text-align:center\">INFO 323: Cloud Computing and Big Data</h2>\n",
    "<h3 style = \"text-align:center\">Assignment 2 Question 5</h3>\n",
    "<div style=\"text-align:center; border-style:solid; padding: 10px\">\n",
    "This question has 40 marks for the assignment.\n",
    "</div>\n",
    "\n",
    "### A. Assignment2 Question5 Overview\n",
    "This question provides the opportunity for you to practice with Spark programming basics. \n",
    "\n",
    "### B. What to Hand In\n",
    "\t\n",
    "Sumbit a completed this Jupyter notebook and the required results. \n",
    "\n",
    "### C. How to Hand In\n",
    "\n",
    "Submit your Jupyter notebook along with other files through the course website in the Blackboard Learn system.\n",
    "\n",
    "### D. When to Hand In\n",
    "\n",
    "1. Submit your assignment no later than 11:59pm in the due date.\n",
    "2. There will be a 10% (absolute value) deduction for each day of lateness, to a maximum of 3 days; assignments will not be accepted beyond that point. Missing work will earn a zero grade.\n",
    "\n",
    "### E. Complete the following steps\n",
    "### Note: All the programming must be done in Spark."
   ]
  },
  {
   "cell_type": "code",
   "execution_count": null,
   "metadata": {},
   "outputs": [],
   "source": []
  },
  {
   "cell_type": "code",
   "execution_count": 1,
   "metadata": {},
   "outputs": [
    {
     "data": {
      "text/plain": [
       "'2.4.8'"
      ]
     },
     "execution_count": 1,
     "metadata": {},
     "output_type": "execute_result"
    }
   ],
   "source": [
    "# Check the Spark availability and version \n",
    "spark.version"
   ]
  },
  {
   "cell_type": "markdown",
   "metadata": {},
   "source": [
    "## Excercise 1: Store and Access data in Google File System"
   ]
  },
  {
   "cell_type": "markdown",
   "metadata": {},
   "source": [
    "#### a. Upload the data file \"flights-dest-origin.csv\" to the same folder as this notebook in the Google storage bucket. "
   ]
  },
  {
   "cell_type": "markdown",
   "metadata": {},
   "source": [
    "#### b. Load the data file as RDD from the Google storage:"
   ]
  },
  {
   "cell_type": "code",
   "execution_count": 35,
   "metadata": {},
   "outputs": [],
   "source": [
    "file = spark.sparkContext.textFile(\"gs://info332-dnp68-test/notebooks/jupyter/flights-dest-origin.csv\")"
   ]
  },
  {
   "cell_type": "code",
   "execution_count": 36,
   "metadata": {},
   "outputs": [
    {
     "data": {
      "text/plain": [
       "pyspark.rdd.RDD"
      ]
     },
     "execution_count": 36,
     "metadata": {},
     "output_type": "execute_result"
    }
   ],
   "source": [
    "type(file)"
   ]
  },
  {
   "cell_type": "markdown",
   "metadata": {},
   "source": [
    "#### c. List the first 5 records of the RDD."
   ]
  },
  {
   "cell_type": "code",
   "execution_count": 38,
   "metadata": {},
   "outputs": [
    {
     "data": {
      "text/plain": [
       "['United States,Saint Martin,1',\n",
       " 'United States,Romania,12',\n",
       " 'United States,Croatia,2',\n",
       " 'United States,Ireland,291',\n",
       " 'United States,India,62']"
      ]
     },
     "execution_count": 38,
     "metadata": {},
     "output_type": "execute_result"
    }
   ],
   "source": [
    "file.take(5)"
   ]
  },
  {
   "cell_type": "markdown",
   "metadata": {},
   "source": [
    "#### d. Transform the RDD records to individual fields by spliting the records on comma"
   ]
  },
  {
   "cell_type": "code",
   "execution_count": 41,
   "metadata": {},
   "outputs": [],
   "source": [
    "fields = file.map(lambda line: line.split(\",\"))"
   ]
  },
  {
   "cell_type": "markdown",
   "metadata": {},
   "source": [
    "#### e. List the first 5 records of the resultant RDD"
   ]
  },
  {
   "cell_type": "code",
   "execution_count": 42,
   "metadata": {},
   "outputs": [
    {
     "data": {
      "text/plain": [
       "[['United States', 'Saint Martin', '1'],\n",
       " ['United States', 'Romania', '12'],\n",
       " ['United States', 'Croatia', '2'],\n",
       " ['United States', 'Ireland', '291'],\n",
       " ['United States', 'India', '62']]"
      ]
     },
     "execution_count": 42,
     "metadata": {},
     "output_type": "execute_result"
    }
   ],
   "source": [
    "fields.take(5)"
   ]
  },
  {
   "cell_type": "markdown",
   "metadata": {},
   "source": [
    "#### f. Transform the RDD records to (dest, 1) pairs"
   ]
  },
  {
   "cell_type": "code",
   "execution_count": 43,
   "metadata": {},
   "outputs": [],
   "source": [
    "dest_ = fields.map(lambda fields: (fields[0], 1))"
   ]
  },
  {
   "cell_type": "markdown",
   "metadata": {},
   "source": [
    "#### g. List the first 5 records of the resultant RDD"
   ]
  },
  {
   "cell_type": "code",
   "execution_count": 44,
   "metadata": {},
   "outputs": [
    {
     "data": {
      "text/plain": [
       "[('United States', 1),\n",
       " ('United States', 1),\n",
       " ('United States', 1),\n",
       " ('United States', 1),\n",
       " ('United States', 1)]"
      ]
     },
     "execution_count": 44,
     "metadata": {},
     "output_type": "execute_result"
    }
   ],
   "source": [
    "dest_.take(5)"
   ]
  },
  {
   "cell_type": "markdown",
   "metadata": {},
   "source": [
    "#### h. Reduce the records to (dest, count)"
   ]
  },
  {
   "cell_type": "code",
   "execution_count": 45,
   "metadata": {},
   "outputs": [],
   "source": [
    "dest_counts =  dest_.reduceByKey(lambda a, b: a+b)"
   ]
  },
  {
   "cell_type": "markdown",
   "metadata": {},
   "source": [
    "#### i. List the first 5 records"
   ]
  },
  {
   "cell_type": "code",
   "execution_count": 46,
   "metadata": {},
   "outputs": [
    {
     "data": {
      "text/plain": [
       "[('United States', 118),\n",
       " ('Costa Rica', 1),\n",
       " ('Malawi', 1),\n",
       " ('Anguilla', 1),\n",
       " ('Algeria', 1)]"
      ]
     },
     "execution_count": 46,
     "metadata": {},
     "output_type": "execute_result"
    }
   ],
   "source": [
    "dest_counts.take(5)"
   ]
  },
  {
   "cell_type": "markdown",
   "metadata": {},
   "source": [
    "#### j. Save the result to a folder in the Google storage bucket"
   ]
  },
  {
   "cell_type": "code",
   "execution_count": 48,
   "metadata": {},
   "outputs": [],
   "source": [
    "dest_counts.saveAsTextFile(\"gs://info332-dnp68-test/notebooks/jupyter/dest_counts_spark\")"
   ]
  },
  {
   "cell_type": "markdown",
   "metadata": {},
   "source": [
    "#### l. Download the partitions in the saved folder to your local computer system. Combine the results as a file \"dest-counts-gs.txt\". Submit the file."
   ]
  },
  {
   "cell_type": "code",
   "execution_count": null,
   "metadata": {},
   "outputs": [],
   "source": [
    "#see the attachement "
   ]
  },
  {
   "cell_type": "markdown",
   "metadata": {},
   "source": [
    "## Exercise 2: Store and Access data in Hadoop Distributed File System. This exercise will repeat every step in Exercise 1 but use data stored in HDFS"
   ]
  },
  {
   "cell_type": "markdown",
   "metadata": {},
   "source": [
    "#### a. Create a folder in the HDFS and Upload the data file \"flights-dest-origin.csv\" to the HDFS folder."
   ]
  },
  {
   "cell_type": "code",
   "execution_count": null,
   "metadata": {},
   "outputs": [],
   "source": [
    "devamnpatel@cluster-ad6d-m:~$ gsutil cp gs://info332-dnp68-test/notebooks/jupyter/flights-dest-origin.csv flights-dest-origin.csv\n",
    "Copying gs://info332-dnp68-test/notebooks/jupyter/flights-dest-origin.csv...\n",
    "/ [1 files][  6.8 KiB/  6.8 KiB]                                                \n",
    "Operation completed over 1 objects/6.8 KiB.                                      \n",
    "devamnpatel@cluster-ad6d-m:~$ hdfs dfs -mkdir /flight_data\n",
    "devamnpatel@cluster-ad6d-m:~$ hdfs dfs -put flights-dest-origin.csv /flights_data\n",
    "devamnpatel@cluster-ad6d-m:~$ -ls\n",
    "-bash: -ls: command not found\n",
    "devamnpatel@cluster-ad6d-m:~$ ls\n",
    "flights-dest-origin.csv"
   ]
  },
  {
   "cell_type": "markdown",
   "metadata": {},
   "source": [
    "#### b. Load the data file as RDD from the HDFS folder:"
   ]
  },
  {
   "cell_type": "code",
   "execution_count": 49,
   "metadata": {},
   "outputs": [],
   "source": [
    "path = \"hdfs:/flights_data/flights-dest-origin.csv\"\n",
    "file = spark.sparkContext.textFile(path)\n",
    "\n",
    "#file = spark.sparkContext.textFile(\"gs://info332-dnp68-test/notebooks/jupyter/flights-dest-origin.csv\")"
   ]
  },
  {
   "cell_type": "markdown",
   "metadata": {},
   "source": [
    "#### c. List the first 5 records of the RDD."
   ]
  },
  {
   "cell_type": "code",
   "execution_count": 50,
   "metadata": {},
   "outputs": [
    {
     "data": {
      "text/plain": [
       "['United States,Saint Martin,1',\n",
       " 'United States,Romania,12',\n",
       " 'United States,Croatia,2',\n",
       " 'United States,Ireland,291',\n",
       " 'United States,India,62']"
      ]
     },
     "execution_count": 50,
     "metadata": {},
     "output_type": "execute_result"
    }
   ],
   "source": [
    "file.take(5)"
   ]
  },
  {
   "cell_type": "markdown",
   "metadata": {},
   "source": [
    "#### d. Transform the RDD records to individual fields by spliting the records on comma"
   ]
  },
  {
   "cell_type": "code",
   "execution_count": 53,
   "metadata": {},
   "outputs": [],
   "source": [
    "fields = file.map(lambda line: line.split(\",\"))"
   ]
  },
  {
   "cell_type": "markdown",
   "metadata": {},
   "source": [
    "#### e. List the first 5 records of the resultant RDD"
   ]
  },
  {
   "cell_type": "code",
   "execution_count": 54,
   "metadata": {},
   "outputs": [
    {
     "data": {
      "text/plain": [
       "[['United States', 'Saint Martin', '1'],\n",
       " ['United States', 'Romania', '12'],\n",
       " ['United States', 'Croatia', '2'],\n",
       " ['United States', 'Ireland', '291'],\n",
       " ['United States', 'India', '62']]"
      ]
     },
     "execution_count": 54,
     "metadata": {},
     "output_type": "execute_result"
    }
   ],
   "source": [
    "fields.take(5)"
   ]
  },
  {
   "cell_type": "markdown",
   "metadata": {},
   "source": [
    "#### f. Transform the RDD records to (dest, 1) pairs"
   ]
  },
  {
   "cell_type": "code",
   "execution_count": 55,
   "metadata": {},
   "outputs": [],
   "source": [
    "dest_1 = fields.map(lambda fields: (fields[0], 1))"
   ]
  },
  {
   "cell_type": "markdown",
   "metadata": {},
   "source": [
    "#### g. List the first 5 records of the resultant RDD"
   ]
  },
  {
   "cell_type": "code",
   "execution_count": 56,
   "metadata": {},
   "outputs": [
    {
     "data": {
      "text/plain": [
       "[('United States', 1),\n",
       " ('United States', 1),\n",
       " ('United States', 1),\n",
       " ('United States', 1),\n",
       " ('United States', 1)]"
      ]
     },
     "execution_count": 56,
     "metadata": {},
     "output_type": "execute_result"
    }
   ],
   "source": [
    "dest_1.take(5)"
   ]
  },
  {
   "cell_type": "markdown",
   "metadata": {},
   "source": [
    "#### h. Reduce the records to (dest, count)"
   ]
  },
  {
   "cell_type": "code",
   "execution_count": 57,
   "metadata": {},
   "outputs": [],
   "source": [
    "dest_counts =  dest_1.reduceByKey(lambda a, b: a+b)"
   ]
  },
  {
   "cell_type": "markdown",
   "metadata": {},
   "source": [
    "#### i. List the first 5 records"
   ]
  },
  {
   "cell_type": "code",
   "execution_count": 58,
   "metadata": {},
   "outputs": [
    {
     "data": {
      "text/plain": [
       "[('United States', 118),\n",
       " ('Costa Rica', 1),\n",
       " ('Malawi', 1),\n",
       " ('Anguilla', 1),\n",
       " ('Algeria', 1)]"
      ]
     },
     "execution_count": 58,
     "metadata": {},
     "output_type": "execute_result"
    }
   ],
   "source": [
    "dest_counts.take(5)"
   ]
  },
  {
   "cell_type": "markdown",
   "metadata": {},
   "source": [
    "#### j. Save the result to a folder in the HDFS"
   ]
  },
  {
   "cell_type": "code",
   "execution_count": 59,
   "metadata": {},
   "outputs": [],
   "source": [
    "dest_counts.saveAsTextFile(\"gs://info332-dnp68-test/notebooks/jupyter/dest-counts-hdfs\")"
   ]
  },
  {
   "cell_type": "markdown",
   "metadata": {},
   "source": [
    "#### l. Download the partitions in the saved HDFS folder to your local computer system. Combine the results as a file \"dest-counts-hdfs.txt\". Submit the file."
   ]
  },
  {
   "cell_type": "code",
   "execution_count": null,
   "metadata": {},
   "outputs": [],
   "source": [
    "#see the attachment"
   ]
  },
  {
   "cell_type": "code",
   "execution_count": null,
   "metadata": {},
   "outputs": [],
   "source": []
  }
 ],
 "metadata": {
  "kernelspec": {
   "display_name": "Python 3",
   "language": "python",
   "name": "python3"
  },
  "language_info": {
   "codemirror_mode": {
    "name": "ipython",
    "version": 3
   },
   "file_extension": ".py",
   "mimetype": "text/x-python",
   "name": "python",
   "nbconvert_exporter": "python",
   "pygments_lexer": "ipython3",
   "version": "3.8.8"
  }
 },
 "nbformat": 4,
 "nbformat_minor": 4
}
